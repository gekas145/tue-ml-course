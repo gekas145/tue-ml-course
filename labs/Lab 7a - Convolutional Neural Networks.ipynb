{
 "cells": [
  {
   "cell_type": "markdown",
   "metadata": {
    "colab_type": "text",
    "id": "KWKcmf8evatg"
   },
   "source": [
    "# Lab 7a: Convolutional neural nets\n",
    "In this lab we consider the [CIFAR dataset](https://www.openml.org/d/40926), but model it using convolutional neural networks instead of linear models.\n",
    "There is no separate tutorial, but you can find lots of examples in the lecture notebook on convolutional neural networks. If you are very confident, you can also try to solve these exercises using PyTorch instead of TensorFlow."
   ]
  },
  {
   "cell_type": "markdown",
   "metadata": {
    "colab_type": "text",
    "id": "lDmq-B50vatm"
   },
   "source": [
    "Tip: You can run these exercises faster on a GPU (but they will also run fine on a CPU). If you do not have a GPU locally, you can upload this notebook to Google Colab. You can enable GPU support at “runtime” -> “change runtime type”."
   ]
  },
  {
   "cell_type": "code",
   "execution_count": 1,
   "metadata": {
    "colab": {
     "base_uri": "https://localhost:8080/",
     "height": 51
    },
    "colab_type": "code",
    "id": "J6dS0Pcjvatp",
    "outputId": "d60a4f7e-1a80-4157-9799-8f17cca3e51e"
   },
   "outputs": [],
   "source": [
    "# General imports\n",
    "%matplotlib inline\n",
    "import numpy as np\n",
    "import pandas as pd\n",
    "import matplotlib.pyplot as plt\n",
    "import openml as oml\n",
    "import tensorflow as tf"
   ]
  },
  {
   "cell_type": "code",
   "execution_count": 2,
   "metadata": {
    "colab": {
     "base_uri": "https://localhost:8080/",
     "height": 68
    },
    "colab_type": "code",
    "id": "fgFXyOrkvs57",
    "outputId": "7c06657f-08e5-40f0-a1a1-556792d996d4"
   },
   "outputs": [],
   "source": [
    "# Uncomment the next line if you run on Colab\n",
    "#!pip install --quiet openml"
   ]
  },
  {
   "cell_type": "code",
   "execution_count": 2,
   "metadata": {
    "colab": {},
    "colab_type": "code",
    "id": "RuFLiSvWwUPE"
   },
   "outputs": [],
   "source": [
    "%matplotlib inline\n",
    "import openml as oml\n",
    "import matplotlib.pyplot as plt"
   ]
  },
  {
   "cell_type": "code",
   "execution_count": null,
   "metadata": {
    "colab": {},
    "colab_type": "code",
    "id": "LAXN17rYvat6"
   },
   "outputs": [],
   "source": [
    "# Download CIFAR data. Takes a while the first time.\n",
    "# This version returns 3x32x32 resolution images. \n",
    "# If you feel like it, repeat the exercises with the 96x96x3 resolution version by using ID 41103 \n",
    "cifar = oml.datasets.get_dataset(40926) \n",
    "X, y, _, _ = cifar.get_data(target=cifar.default_target_attribute, dataset_format='array'); \n",
    "cifar_classes = {0: \"airplane\", 1: \"automobile\", 2: \"bird\", 3: \"cat\", 4: \"deer\",\n",
    "                 5: \"dog\", 6: \"frog\", 7: \"horse\", 8: \"ship\", 9: \"truck\"}"
   ]
  },
  {
   "cell_type": "code",
   "execution_count": 4,
   "metadata": {
    "colab": {},
    "colab_type": "code",
    "id": "Cr2I9xdO-Y26"
   },
   "outputs": [],
   "source": [
    "# The dataset (40926) is in a weird 3x32x32 format, we need to reshape and transpose\n",
    "Xr = X.reshape((len(X),3,32,32)).transpose(0,2,3,1)"
   ]
  },
  {
   "cell_type": "code",
   "execution_count": 5,
   "metadata": {},
   "outputs": [
    {
     "data": {
      "text/plain": [
       "(20000, 32, 32, 3)"
      ]
     },
     "execution_count": 5,
     "metadata": {},
     "output_type": "execute_result"
    }
   ],
   "source": [
    "Xr.shape"
   ]
  },
  {
   "cell_type": "code",
   "execution_count": 6,
   "metadata": {
    "colab": {
     "base_uri": "https://localhost:8080/",
     "height": 141
    },
    "colab_type": "code",
    "id": "9fZymsAzvauB",
    "outputId": "fa0f4586-9acb-41f1-8390-8821c808348e"
   },
   "outputs": [
    {
     "data": {
      "image/png": "[encoded data removed]",
      "text/plain": [
       "<Figure size 720x360 with 5 Axes>"
      ]
     },
     "metadata": {},
     "output_type": "display_data"
    }
   ],
   "source": [
    "# Take some random examples, reshape to a 32x32 image and plot\n",
    "from random import randint\n",
    "fig, axes = plt.subplots(1, 5,  figsize=(10, 5))\n",
    "for i in range(5):\n",
    "    n = randint(0,len(Xr))\n",
    "    # The data is stored in a 3x32x32 format, so we need to transpose it\n",
    "    axes[i].imshow(Xr[n]/255)\n",
    "    axes[i].set_xlabel((cifar_classes[int(y[n])]))\n",
    "    axes[i].set_xticks(()), axes[i].set_yticks(())\n",
    "plt.show();"
   ]
  },
  {
   "cell_type": "code",
   "execution_count": 8,
   "metadata": {},
   "outputs": [
    {
     "data": {
      "text/plain": [
       "array([0, 1, 2, 3, 4, 5, 6, 7, 8, 9])"
      ]
     },
     "execution_count": 8,
     "metadata": {},
     "output_type": "execute_result"
    }
   ],
   "source": [
    "np.unique(y) # 10 classes"
   ]
  },
  {
   "cell_type": "code",
   "execution_count": 9,
   "metadata": {},
   "outputs": [
    {
     "data": {
      "text/plain": [
       "{0: 'airplane',\n",
       " 1: 'automobile',\n",
       " 2: 'bird',\n",
       " 3: 'cat',\n",
       " 4: 'deer',\n",
       " 5: 'dog',\n",
       " 6: 'frog',\n",
       " 7: 'horse',\n",
       " 8: 'ship',\n",
       " 9: 'truck'}"
      ]
     },
     "execution_count": 9,
     "metadata": {},
     "output_type": "execute_result"
    }
   ],
   "source": [
    "cifar_classes"
   ]
  },
  {
   "cell_type": "markdown",
   "metadata": {
    "colab_type": "text",
    "id": "wrF5VXwyvauJ"
   },
   "source": [
    "## Exercise 1: A simple model\n",
    "* Split the data into 80% training and 20% validation sets\n",
    "* Normalize the data to [0,1]\n",
    "* Build a ConvNet with 3 convolutional layers interspersed with MaxPooling layers, and one dense layer.\n",
    "    * Use at least 32 3x3 filters in the first layer and ReLU activation.\n",
    "    * Otherwise, make rational design choices or experiment a bit to see what works.\n",
    "* You should at least get 60% accuracy.\n",
    "* For training, you can try batch sizes of 64, and 20-50 epochs, but feel free to explore this as well\n",
    "* Plot and interpret the learning curves. Is the model overfitting? How could you improve it further?"
   ]
  },
  {
   "cell_type": "code",
   "execution_count": null,
   "metadata": {},
   "outputs": [],
   "source": [
    "# Helper plotting function\n",
    "#\n",
    "# history: the history object returned by the fit function\n",
    "# list_of_metrics: the metrics to plot\n",
    "def plot_curve(history, show_loss=True):\n",
    "    \n",
    "    plt.figure()\n",
    "    plt.xlabel(\"Epoch\")\n",
    "    plt.ylabel(\"Value\")\n",
    "\n",
    "    epochs = np.array(history.epoch) + 1\n",
    "    hist = pd.DataFrame(history.history)\n",
    "    \n",
    "    if show_loss:\n",
    "        plt.plot(epochs, hist[\"loss\"], label=\"loss\", lw=2, c=\"red\")\n",
    "        plt.plot(epochs, hist[\"val_loss\"], label=\"val_loss\", lw=2, c=\"blue\")\n",
    "    plt.plot(epochs, hist[\"categorical_accuracy\"], label=\"accuracy\", lw=2, c=\"red\", linestyle=\"--\")\n",
    "    plt.plot(epochs, hist[\"val_categorical_accuracy\"], label=\"val_accuracy\", lw=2, linestyle=\"--\", c=\"blue\")\n",
    "\n",
    "    plt.legend()"
   ]
  },
  {
   "cell_type": "code",
   "execution_count": 26,
   "metadata": {},
   "outputs": [],
   "source": [
    "from sklearn.model_selection import train_test_split\n",
    "\n",
    "X_train, X_val, y_train, y_val = train_test_split(Xr, y, \n",
    "                                                  stratify=y, \n",
    "                                                  shuffle=True,\n",
    "                                                  random_state=123,\n",
    "                                                  train_size=0.8)"
   ]
  },
  {
   "cell_type": "code",
   "execution_count": 27,
   "metadata": {},
   "outputs": [],
   "source": [
    "X_train /= 255\n",
    "X_val /= 255\n",
    "y_train = tf.one_hot(y_train, depth=10)\n",
    "y_val = tf.one_hot(y_val, depth=10)"
   ]
  },
  {
   "cell_type": "code",
   "execution_count": 47,
   "metadata": {},
   "outputs": [],
   "source": [
    "# define model layers\n",
    "model = tf.keras.models.Sequential()\n",
    "model.add(tf.keras.layers.Input(shape=(32, 32, 3)))\n",
    "model.add(tf.keras.layers.Conv2D(64, (3, 3), activation=\"relu\"))\n",
    "model.add(tf.keras.layers.MaxPooling2D((2, 2)))\n",
    "model.add(tf.keras.layers.Conv2D(128, (3, 3), activation=\"relu\"))\n",
    "model.add(tf.keras.layers.MaxPooling2D((2, 2)))\n",
    "model.add(tf.keras.layers.Conv2D(128, (3, 3), activation=\"relu\"))\n",
    "model.add(tf.keras.layers.Flatten())\n",
    "model.add(tf.keras.layers.Dense(128, activation=\"relu\"))\n",
    "model.add(tf.keras.layers.Dense(10))"
   ]
  },
  {
   "cell_type": "code",
   "execution_count": 48,
   "metadata": {},
   "outputs": [
    {
     "name": "stdout",
     "output_type": "stream",
     "text": [
      "Model: \"sequential_4\"\n",
      "_________________________________________________________________\n",
      " Layer (type)                Output Shape              Param #   \n",
      "=================================================================\n",
      " conv2d_10 (Conv2D)          (None, 30, 30, 64)        1792      \n",
      "                                                                 \n",
      " max_pooling2d_7 (MaxPoolin  (None, 15, 15, 64)        0         \n",
      " g2D)                                                            \n",
      "                                                                 \n",
      " conv2d_11 (Conv2D)          (None, 13, 13, 128)       73856     \n",
      "                                                                 \n",
      " max_pooling2d_8 (MaxPoolin  (None, 6, 6, 128)         0         \n",
      " g2D)                                                            \n",
      "                                                                 \n",
      " conv2d_12 (Conv2D)          (None, 4, 4, 128)         147584    \n",
      "                                                                 \n",
      " flatten_3 (Flatten)         (None, 2048)              0         \n",
      "                                                                 \n",
      " dense_6 (Dense)             (None, 128)               262272    \n",
      "                                                                 \n",
      " dense_7 (Dense)             (None, 10)                1290      \n",
      "                                                                 \n",
      "=================================================================\n",
      "Total params: 486794 (1.86 MB)\n",
      "Trainable params: 486794 (1.86 MB)\n",
      "Non-trainable params: 0 (0.00 Byte)\n",
      "_________________________________________________________________\n"
     ]
    }
   ],
   "source": [
    "model.summary()"
   ]
  },
  {
   "cell_type": "code",
   "execution_count": 49,
   "metadata": {},
   "outputs": [],
   "source": [
    "# add loss, optimizer and metrics\n",
    "model.compile(loss=tf.keras.losses.CategoricalCrossentropy(from_logits=True),\n",
    "              optimizer=tf.keras.optimizers.RMSprop(learning_rate=1e-4),\n",
    "              metrics=[tf.keras.metrics.CategoricalAccuracy()])"
   ]
  },
  {
   "cell_type": "code",
   "execution_count": 50,
   "metadata": {},
   "outputs": [
    {
     "name": "stdout",
     "output_type": "stream",
     "text": [
      "Epoch 1/60\n",
      "100/100 [==============================] - 12s 118ms/step - loss: 2.2120 - categorical_accuracy: 0.1883 - val_loss: 2.1184 - val_categorical_accuracy: 0.2155\n",
      "Epoch 2/60\n",
      "100/100 [==============================] - 12s 117ms/step - loss: 2.0338 - categorical_accuracy: 0.2672 - val_loss: 1.9815 - val_categorical_accuracy: 0.2820\n",
      "Epoch 3/60\n",
      "100/100 [==============================] - 12s 124ms/step - loss: 1.9215 - categorical_accuracy: 0.3055 - val_loss: 1.8810 - val_categorical_accuracy: 0.3175\n",
      "Epoch 4/60\n",
      "100/100 [==============================] - 13s 131ms/step - loss: 1.8362 - categorical_accuracy: 0.3353 - val_loss: 1.8515 - val_categorical_accuracy: 0.3295\n",
      "Epoch 5/60\n",
      "100/100 [==============================] - 13s 130ms/step - loss: 1.7945 - categorical_accuracy: 0.3584 - val_loss: 1.7926 - val_categorical_accuracy: 0.3623\n",
      "Epoch 6/60\n",
      "100/100 [==============================] - 13s 131ms/step - loss: 1.7393 - categorical_accuracy: 0.3727 - val_loss: 1.7762 - val_categorical_accuracy: 0.3625\n",
      "Epoch 7/60\n",
      "100/100 [==============================] - 13s 131ms/step - loss: 1.6880 - categorical_accuracy: 0.3883 - val_loss: 1.6774 - val_categorical_accuracy: 0.4010\n",
      "Epoch 8/60\n",
      "100/100 [==============================] - 13s 132ms/step - loss: 1.6600 - categorical_accuracy: 0.4141 - val_loss: 1.6418 - val_categorical_accuracy: 0.4067\n",
      "Epoch 9/60\n",
      "100/100 [==============================] - 13s 133ms/step - loss: 1.6234 - categorical_accuracy: 0.4216 - val_loss: 1.6198 - val_categorical_accuracy: 0.4157\n",
      "Epoch 10/60\n",
      "100/100 [==============================] - 13s 133ms/step - loss: 1.5873 - categorical_accuracy: 0.4323 - val_loss: 1.5794 - val_categorical_accuracy: 0.4277\n",
      "Epoch 11/60\n",
      "100/100 [==============================] - 13s 132ms/step - loss: 1.5502 - categorical_accuracy: 0.4475 - val_loss: 1.5450 - val_categorical_accuracy: 0.4482\n",
      "Epoch 12/60\n",
      "100/100 [==============================] - 13s 133ms/step - loss: 1.5487 - categorical_accuracy: 0.4437 - val_loss: 1.5221 - val_categorical_accuracy: 0.4525\n",
      "Epoch 13/60\n",
      "100/100 [==============================] - 13s 132ms/step - loss: 1.4859 - categorical_accuracy: 0.4691 - val_loss: 1.5217 - val_categorical_accuracy: 0.4560\n",
      "Epoch 14/60\n",
      "100/100 [==============================] - 13s 133ms/step - loss: 1.4799 - categorical_accuracy: 0.4742 - val_loss: 1.5386 - val_categorical_accuracy: 0.4345\n",
      "Epoch 15/60\n",
      "100/100 [==============================] - 13s 133ms/step - loss: 1.4836 - categorical_accuracy: 0.4694 - val_loss: 1.4703 - val_categorical_accuracy: 0.4638\n",
      "Epoch 16/60\n",
      "100/100 [==============================] - 13s 132ms/step - loss: 1.4284 - categorical_accuracy: 0.4884 - val_loss: 1.4487 - val_categorical_accuracy: 0.4765\n",
      "Epoch 17/60\n",
      "100/100 [==============================] - 13s 134ms/step - loss: 1.4405 - categorical_accuracy: 0.4869 - val_loss: 1.4719 - val_categorical_accuracy: 0.4712\n",
      "Epoch 18/60\n",
      "100/100 [==============================] - 13s 133ms/step - loss: 1.4265 - categorical_accuracy: 0.4909 - val_loss: 1.4245 - val_categorical_accuracy: 0.4855\n",
      "Epoch 19/60\n",
      "100/100 [==============================] - 14s 136ms/step - loss: 1.3988 - categorical_accuracy: 0.5098 - val_loss: 1.4273 - val_categorical_accuracy: 0.4893\n",
      "Epoch 20/60\n",
      "100/100 [==============================] - 13s 134ms/step - loss: 1.4001 - categorical_accuracy: 0.5048 - val_loss: 1.4025 - val_categorical_accuracy: 0.4945\n",
      "Epoch 21/60\n",
      "100/100 [==============================] - 13s 135ms/step - loss: 1.3730 - categorical_accuracy: 0.5158 - val_loss: 1.3858 - val_categorical_accuracy: 0.5065\n",
      "Epoch 22/60\n",
      "100/100 [==============================] - 13s 134ms/step - loss: 1.3563 - categorical_accuracy: 0.5242 - val_loss: 1.4098 - val_categorical_accuracy: 0.4890\n",
      "Epoch 23/60\n",
      "100/100 [==============================] - 14s 136ms/step - loss: 1.3515 - categorical_accuracy: 0.5186 - val_loss: 1.3595 - val_categorical_accuracy: 0.5082\n",
      "Epoch 24/60\n",
      "100/100 [==============================] - 13s 130ms/step - loss: 1.3307 - categorical_accuracy: 0.5428 - val_loss: 1.3341 - val_categorical_accuracy: 0.5228\n",
      "Epoch 25/60\n",
      "100/100 [==============================] - 13s 130ms/step - loss: 1.3351 - categorical_accuracy: 0.5244 - val_loss: 1.3347 - val_categorical_accuracy: 0.5167\n",
      "Epoch 26/60\n",
      "100/100 [==============================] - 13s 130ms/step - loss: 1.3031 - categorical_accuracy: 0.5348 - val_loss: 1.3788 - val_categorical_accuracy: 0.5063\n",
      "Epoch 27/60\n",
      "100/100 [==============================] - 13s 129ms/step - loss: 1.3099 - categorical_accuracy: 0.5411 - val_loss: 1.3270 - val_categorical_accuracy: 0.5238\n",
      "Epoch 28/60\n",
      "100/100 [==============================] - 14s 137ms/step - loss: 1.2775 - categorical_accuracy: 0.5448 - val_loss: 1.4085 - val_categorical_accuracy: 0.5125\n",
      "Epoch 29/60\n",
      "100/100 [==============================] - 14s 136ms/step - loss: 1.2766 - categorical_accuracy: 0.5481 - val_loss: 1.2891 - val_categorical_accuracy: 0.5405\n",
      "Epoch 30/60\n",
      "100/100 [==============================] - 13s 131ms/step - loss: 1.2740 - categorical_accuracy: 0.5506 - val_loss: 1.3092 - val_categorical_accuracy: 0.5320\n",
      "Epoch 31/60\n",
      "100/100 [==============================] - 15s 146ms/step - loss: 1.2581 - categorical_accuracy: 0.5608 - val_loss: 1.2624 - val_categorical_accuracy: 0.5447\n",
      "Epoch 32/60\n",
      "100/100 [==============================] - 13s 131ms/step - loss: 1.2363 - categorical_accuracy: 0.5636 - val_loss: 1.2704 - val_categorical_accuracy: 0.5408\n",
      "Epoch 33/60\n",
      "100/100 [==============================] - 13s 129ms/step - loss: 1.2500 - categorical_accuracy: 0.5653 - val_loss: 1.2841 - val_categorical_accuracy: 0.5347\n",
      "Epoch 34/60\n",
      "100/100 [==============================] - 13s 130ms/step - loss: 1.2180 - categorical_accuracy: 0.5738 - val_loss: 1.2510 - val_categorical_accuracy: 0.5525\n",
      "Epoch 35/60\n",
      "100/100 [==============================] - 13s 132ms/step - loss: 1.2079 - categorical_accuracy: 0.5703 - val_loss: 1.2343 - val_categorical_accuracy: 0.5575\n",
      "Epoch 36/60\n",
      "100/100 [==============================] - 13s 131ms/step - loss: 1.2018 - categorical_accuracy: 0.5759 - val_loss: 1.2556 - val_categorical_accuracy: 0.5587\n",
      "Epoch 37/60\n",
      "100/100 [==============================] - 13s 133ms/step - loss: 1.1894 - categorical_accuracy: 0.5836 - val_loss: 1.2385 - val_categorical_accuracy: 0.5527\n",
      "Epoch 38/60\n",
      "100/100 [==============================] - 13s 131ms/step - loss: 1.1780 - categorical_accuracy: 0.5858 - val_loss: 1.2277 - val_categorical_accuracy: 0.5638\n",
      "Epoch 39/60\n",
      "100/100 [==============================] - 13s 133ms/step - loss: 1.1894 - categorical_accuracy: 0.5783 - val_loss: 1.2032 - val_categorical_accuracy: 0.5627\n",
      "Epoch 40/60\n",
      "100/100 [==============================] - 14s 135ms/step - loss: 1.1559 - categorical_accuracy: 0.5931 - val_loss: 1.2241 - val_categorical_accuracy: 0.5692\n",
      "Epoch 41/60\n",
      "100/100 [==============================] - 13s 131ms/step - loss: 1.1452 - categorical_accuracy: 0.5969 - val_loss: 1.2237 - val_categorical_accuracy: 0.5577\n",
      "Epoch 42/60\n",
      "100/100 [==============================] - 13s 132ms/step - loss: 1.1540 - categorical_accuracy: 0.5913 - val_loss: 1.2064 - val_categorical_accuracy: 0.5713\n",
      "Epoch 43/60\n",
      "100/100 [==============================] - 13s 132ms/step - loss: 1.1385 - categorical_accuracy: 0.6009 - val_loss: 1.2170 - val_categorical_accuracy: 0.5688\n",
      "Epoch 44/60\n",
      "100/100 [==============================] - 13s 132ms/step - loss: 1.1293 - categorical_accuracy: 0.6030 - val_loss: 1.2152 - val_categorical_accuracy: 0.5650\n",
      "Epoch 45/60\n",
      "100/100 [==============================] - 14s 139ms/step - loss: 1.1254 - categorical_accuracy: 0.6053 - val_loss: 1.2296 - val_categorical_accuracy: 0.5625\n",
      "Epoch 46/60\n",
      "100/100 [==============================] - 14s 137ms/step - loss: 1.0994 - categorical_accuracy: 0.6192 - val_loss: 1.1937 - val_categorical_accuracy: 0.5842\n",
      "Epoch 47/60\n",
      "100/100 [==============================] - 14s 138ms/step - loss: 1.1092 - categorical_accuracy: 0.6148 - val_loss: 1.1772 - val_categorical_accuracy: 0.5800\n",
      "Epoch 48/60\n",
      "100/100 [==============================] - 13s 133ms/step - loss: 1.1076 - categorical_accuracy: 0.6136 - val_loss: 1.1402 - val_categorical_accuracy: 0.6000\n",
      "Epoch 49/60\n"
     ]
    },
    {
     "name": "stdout",
     "output_type": "stream",
     "text": [
      "100/100 [==============================] - 13s 130ms/step - loss: 1.0887 - categorical_accuracy: 0.6194 - val_loss: 1.1912 - val_categorical_accuracy: 0.5860\n",
      "Epoch 50/60\n",
      "100/100 [==============================] - 13s 130ms/step - loss: 1.0766 - categorical_accuracy: 0.6253 - val_loss: 1.1714 - val_categorical_accuracy: 0.5880\n",
      "Epoch 51/60\n",
      "100/100 [==============================] - 13s 131ms/step - loss: 1.0777 - categorical_accuracy: 0.6217 - val_loss: 1.1407 - val_categorical_accuracy: 0.5982\n",
      "Epoch 52/60\n",
      "100/100 [==============================] - 13s 130ms/step - loss: 1.0491 - categorical_accuracy: 0.6364 - val_loss: 1.1771 - val_categorical_accuracy: 0.5960\n",
      "Epoch 53/60\n",
      "100/100 [==============================] - 13s 131ms/step - loss: 1.0519 - categorical_accuracy: 0.6330 - val_loss: 1.1413 - val_categorical_accuracy: 0.6018\n",
      "Epoch 54/60\n",
      "100/100 [==============================] - 13s 131ms/step - loss: 1.0468 - categorical_accuracy: 0.6411 - val_loss: 1.1261 - val_categorical_accuracy: 0.6062\n",
      "Epoch 55/60\n",
      "100/100 [==============================] - 13s 131ms/step - loss: 1.0477 - categorical_accuracy: 0.6352 - val_loss: 1.1176 - val_categorical_accuracy: 0.6033\n",
      "Epoch 56/60\n",
      "100/100 [==============================] - 14s 139ms/step - loss: 1.0169 - categorical_accuracy: 0.6538 - val_loss: 1.1961 - val_categorical_accuracy: 0.5738\n",
      "Epoch 57/60\n",
      "100/100 [==============================] - 14s 139ms/step - loss: 1.0435 - categorical_accuracy: 0.6378 - val_loss: 1.1176 - val_categorical_accuracy: 0.6033\n",
      "Epoch 58/60\n",
      "100/100 [==============================] - 14s 140ms/step - loss: 1.0136 - categorical_accuracy: 0.6464 - val_loss: 1.1464 - val_categorical_accuracy: 0.6015\n",
      "Epoch 59/60\n",
      "100/100 [==============================] - 13s 133ms/step - loss: 0.9925 - categorical_accuracy: 0.6552 - val_loss: 1.0993 - val_categorical_accuracy: 0.6118\n",
      "Epoch 60/60\n",
      "100/100 [==============================] - 13s 135ms/step - loss: 1.0062 - categorical_accuracy: 0.6473 - val_loss: 1.1546 - val_categorical_accuracy: 0.5855\n"
     ]
    }
   ],
   "source": [
    "history = model.fit(X_train, y_train, \n",
    "                    epochs=60,\n",
    "                    steps_per_epoch=100,\n",
    "                    batch_size=64,\n",
    "                    validation_data=(X_val, y_val))"
   ]
  },
  {
   "cell_type": "code",
   "execution_count": 51,
   "metadata": {},
   "outputs": [
    {
     "data": {
      "image/png": "[encoded data removed]",
      "text/plain": [
       "<Figure size 432x288 with 1 Axes>"
      ]
     },
     "metadata": {
      "needs_background": "light"
     },
     "output_type": "display_data"
    }
   ],
   "source": [
    "plot_curve(history)"
   ]
  },
  {
   "cell_type": "markdown",
   "metadata": {},
   "source": [
    "* Although in last epoch the accuracy is lower, using early stopping one could obtain even 61% accuracy on validation data(epoch 59).\n",
    "* The model is somewhat overfitting."
   ]
  },
  {
   "cell_type": "code",
   "execution_count": 52,
   "metadata": {},
   "outputs": [
    {
     "data": {
      "image/png": "[encoded data removed]",
      "text/plain": [
       "<Figure size 432x288 with 1 Axes>"
      ]
     },
     "metadata": {
      "needs_background": "light"
     },
     "output_type": "display_data"
    }
   ],
   "source": [
    "plot_curve(history, False) # zoom to accuracies"
   ]
  },
  {
   "cell_type": "markdown",
   "metadata": {
    "colab_type": "text",
    "id": "rORbf0BwU6nj"
   },
   "source": [
    "## Exercise 2: VGG-like model\n",
    "* Implement a simplified VGG model by building 3 'blocks' of 2 convolutional layers each\n",
    "* Do MaxPooling after each block\n",
    "* The first block should use at least 32 filters, later blocks should use more\n",
    "* You can use 3x3 filters\n",
    "* Use zero-padding to be able to build a deeper model (see the `padding` attribute)\n",
    "* Use a dense layer with at least 128 hidden nodes.\n",
    "* You can use ReLU activations everywhere (where it makes sense)\n",
    "* Plot and interpret the learning curves\n"
   ]
  },
  {
   "cell_type": "markdown",
   "metadata": {
    "colab_type": "text",
    "id": "vqDMibf9XXh4"
   },
   "source": [
    "## Exercise 3: Regularization\n",
    "* Explore different ways to regularize your VGG-like model\n",
    "  * Try adding some dropout after every MaxPooling and Dense layer.\n",
    "    * What are good Dropout rates? Try a fixed Dropout rate, or increase the rates in the deeper layers.\n",
    "  * Try batch normalization together with Dropout\n",
    "    * Think about where batch normalization would make sense \n",
    "* Plot and interpret the learning curves\n"
   ]
  },
  {
   "cell_type": "markdown",
   "metadata": {
    "colab_type": "text",
    "id": "0hS0eHlPaERh"
   },
   "source": [
    "## Exercise 4: Data Augmentation\n",
    "* Perform image augmentation (rotation, shift, shear, zoom, flip,...). You can use the ImageDataGenerator for this.\n",
    "* What is the effect? What is the effect with and without Dropout?\n",
    "* Plot and interpret the learning curves\n"
   ]
  },
  {
   "cell_type": "markdown",
   "metadata": {
    "colab_type": "text",
    "id": "j81ECavVvawS"
   },
   "source": [
    "## Exercise 5: Interpret the misclassifications\n",
    "Chances are that even your best model is not yet perfect. It is important to understand what kind of errors it still makes.\n",
    "* Run the test images through the network and detect all misclassified ones\n",
    "* Interpret some of the misclassifications. Are these misclassifications to be expected? \n",
    "* Compute the confusion matrix. Which classes are often confused?"
   ]
  },
  {
   "cell_type": "markdown",
   "metadata": {
    "colab_type": "text",
    "id": "_J2WnCuvvaxj"
   },
   "source": [
    "## Exercise 6: Interpret the model\n",
    "Retrain your best model on all the data. Next, retrieve and visualize the activations (feature maps) for every filter for every convolutional layer, or at least for a few filters for every layer. Tip: see the course notebooks for examples on how to do this. \n",
    "\n",
    "Interpret the results. Is your model indeed learning something useful?"
   ]
  },
  {
   "cell_type": "markdown",
   "metadata": {
    "colab_type": "text",
    "id": "Sl4q-KrSjmeE"
   },
   "source": [
    "## Optional: Take it a step further\n",
    "* Repeat the exercises, but now use a [higher-resolution version of the CIFAR dataset](https://www.openml.org/d/40926) (with OpenML ID 41103), or another [version with 100 classes](https://www.openml.org/d/41983) (with OpenML ID 41983). Good luck!\n"
   ]
  }
 ],
 "metadata": {
  "accelerator": "GPU",
  "anaconda-cloud": {},
  "colab": {
   "collapsed_sections": [],
   "machine_shape": "hm",
   "name": "Lab 6 - Convolutional Neural Networks Solution.ipynb",
   "provenance": []
  },
  "hide_input": false,
  "kernelspec": {
   "display_name": "Python 3 (ipykernel)",
   "language": "python",
   "name": "python3"
  },
  "language_info": {
   "codemirror_mode": {
    "name": "ipython",
    "version": 3
   },
   "file_extension": ".py",
   "mimetype": "text/x-python",
   "name": "python",
   "nbconvert_exporter": "python",
   "pygments_lexer": "ipython3",
   "version": "3.8.13"
  }
 },
 "nbformat": 4,
 "nbformat_minor": 4
}

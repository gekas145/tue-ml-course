{
 "cells": [
  {
   "cell_type": "markdown",
   "metadata": {
    "id": "TL5y5fY9Jy_x"
   },
   "source": [
    "# Lab 6: Neural networks \n",
    "\n",
    "In this lab we will build dense neural networks on the MNIST dataset.\n",
    "\n",
    "Make sure you read the tutorial for this lab first."
   ]
  },
  {
   "cell_type": "markdown",
   "metadata": {},
   "source": [
    "## Load the data and create train-test splits"
   ]
  },
  {
   "cell_type": "code",
   "execution_count": 7,
   "metadata": {},
   "outputs": [],
   "source": [
    "# General imports\n",
    "%matplotlib inline\n",
    "import numpy as np\n",
    "import pandas as pd\n",
    "import matplotlib.pyplot as plt\n",
    "import openml as oml\n",
    "import tensorflow as tf\n",
    "from tensorflow import keras"
   ]
  },
  {
   "cell_type": "code",
   "execution_count": null,
   "metadata": {},
   "outputs": [],
   "source": [
    "# Download MNIST data. Takes a while the first time.\n",
    "mnist = oml.datasets.get_dataset(554)\n",
    "X, y, _, _ = mnist.get_data(target=mnist.default_target_attribute, dataset_format='array');\n",
    "X = X.reshape(70000, 28, 28)"
   ]
  },
  {
   "cell_type": "code",
   "execution_count": 3,
   "metadata": {},
   "outputs": [
    {
     "data": {
      "image/png": "[encoded data removed]",
      "text/plain": [
       "<Figure size 720x360 with 5 Axes>"
      ]
     },
     "metadata": {},
     "output_type": "display_data"
    }
   ],
   "source": [
    "# Take some random examples\n",
    "from random import randint\n",
    "fig, axes = plt.subplots(1, 5,  figsize=(10, 5))\n",
    "for i in range(5):\n",
    "    n = randint(0,70000)\n",
    "    axes[i].imshow(X[n], cmap=plt.cm.gray_r)\n",
    "    axes[i].set_xticks([])\n",
    "    axes[i].set_yticks([])\n",
    "    axes[i].set_xlabel(\"{}\".format(y[n]))\n",
    "plt.show();"
   ]
  },
  {
   "cell_type": "code",
   "execution_count": 4,
   "metadata": {
    "id": "JZlvdpyYKx7V"
   },
   "outputs": [],
   "source": [
    "# For MNIST, there exists a predefined stratified train-test split of 60000-10000. We therefore don't shuffle or stratify here.\n",
    "from sklearn.model_selection import train_test_split\n",
    "X_train, X_test, y_train, y_test = train_test_split(X, y, train_size=60000, random_state=0)"
   ]
  },
  {
   "cell_type": "markdown",
   "metadata": {
    "id": "8ldP-5z1B2vL"
   },
   "source": [
    "## Exercise 1: Preprocessing\n",
    "* Normalize the data: map each feature value from its current representation (an integer between 0 and 255) to a floating-point value between 0 and 1.0. \n",
    "* Store the floating-point values in `X_train_normalized` and `X_test_normalized`.\n",
    "* Map the class label to a on-hot-encoded value. Store in `y_train_encoded` and `y_test_encoded`."
   ]
  },
  {
   "cell_type": "code",
   "execution_count": 8,
   "metadata": {},
   "outputs": [],
   "source": [
    "X_train_normalized = X_train.reshape((X_train.shape[0], 28**2))/255\n",
    "y_train_encoded = tf.one_hot(y_train, 10)\n",
    "\n",
    "X_test_normalized = X_test.reshape((X_test.shape[0], 28**2))/255\n",
    "y_test_encoded = tf.one_hot(y_test, 10)"
   ]
  },
  {
   "cell_type": "code",
   "execution_count": 11,
   "metadata": {},
   "outputs": [
    {
     "name": "stdout",
     "output_type": "stream",
     "text": [
      "(60000, 784) (10000, 784)\n"
     ]
    }
   ],
   "source": [
    "print(X_train_normalized.shape, X_test_normalized.shape)"
   ]
  },
  {
   "cell_type": "code",
   "execution_count": 12,
   "metadata": {},
   "outputs": [
    {
     "name": "stdout",
     "output_type": "stream",
     "text": [
      "(60000, 10) (10000, 10)\n"
     ]
    }
   ],
   "source": [
    "print(y_train_encoded.shape, y_test_encoded.shape)"
   ]
  },
  {
   "cell_type": "markdown",
   "metadata": {
    "id": "3014ezH3C7jT"
   },
   "source": [
    "## Exercise 2: Create a deep neural net model\n",
    "\n",
    "Implement a `create_model` function which defines the topography of the deep neural net, specifying the following:\n",
    "\n",
    "* The number of layers in the deep neural net: Use 2 dense layers for now.\n",
    "* The number of nodes in each layer: these are parameters of your function.\n",
    "* Any regularization layers. Add at least one dropout layer.\n",
    "* The optimizer and learning rate. Make the learning rate a parameter of your function as well.\n",
    "\n",
    "Consider:\n",
    "* What should be the shape of the input layer?\n",
    "* Which activation function you will need for the last layer, since this is a 10-class classification problem?"
   ]
  },
  {
   "cell_type": "code",
   "execution_count": 22,
   "metadata": {},
   "outputs": [],
   "source": [
    "### Create and compile a 'deep' neural net\n",
    "def create_model(layer_1_units=32, layer_2_units=10, learning_rate=0.001, dropout_rate=0.3):\n",
    "    model = keras.Sequential()\n",
    "    model.add(keras.Input(shape=(None, 784)))\n",
    "    model.add(keras.layers.Dense(layer_1_units, activation=\"relu\"))\n",
    "    model.add(keras.layers.Dropout(dropout_rate))\n",
    "    model.add(keras.layers.Dense(layer_2_units))\n",
    "    model.add(keras.layers.Softmax())\n",
    "    \n",
    "    model.compile(optimizer=keras.optimizers.Adam(learning_rate=learning_rate), \n",
    "                  loss=keras.losses.CategoricalCrossentropy(),\n",
    "                  metrics=[keras.metrics.Accuracy()])\n",
    "    \n",
    "    return model"
   ]
  },
  {
   "cell_type": "markdown",
   "metadata": {},
   "source": [
    "## Exercise 3: Create a training function\n",
    "Implement a `train_model` function which trains and evaluates a given model.\n",
    "It should do a train-validation split and report the train and validation loss and accuracy, and return the training history."
   ]
  },
  {
   "cell_type": "code",
   "execution_count": 15,
   "metadata": {},
   "outputs": [],
   "source": [
    "def train_model(model, X, y, validation_split=0.1, epochs=10, batch_size=None):\n",
    "    \"\"\"\n",
    "    model: the model to train\n",
    "    X, y: the training data and labels\n",
    "    validation_split: the percentage of data set aside for the validation set\n",
    "    epochs: the number of epochs to train for\n",
    "    batch_size: the batch size for minibatch SGD\n",
    "    \"\"\"\n",
    "    \n",
    "    model.fit(X, y,\n",
    "             batch_size=batch_size,\n",
    "             epochs=epochs,\n",
    "             validation_split=validation_split)\n",
    "    \n",
    "    return model.history\n",
    "    "
   ]
  },
  {
   "cell_type": "markdown",
   "metadata": {
    "id": "D-IXYVfvM4gD"
   },
   "source": [
    "## Exercise 4: Evaluate the model\n",
    "\n",
    "Train the model with a learning rate of 0.003, 50 epochs, batch size 4000, and a validation set that is 20% of the total training data.\n",
    "Use default settings otherwise. Plot the learning curve of the loss, validation loss, accuracy, and validation accuracy. Finally, report the performance on the test set.\n",
    "\n",
    "Feel free to use the plotting function below, or implement the callback from the tutorial to see results in real time."
   ]
  },
  {
   "cell_type": "code",
   "execution_count": 23,
   "metadata": {
    "scrolled": true
   },
   "outputs": [
    {
     "name": "stdout",
     "output_type": "stream",
     "text": [
      "Epoch 1/50\n",
      "12/12 [==============================] - 2s 63ms/step - loss: 1.6793 - accuracy: 0.0000e+00 - val_loss: 0.9127 - val_accuracy: 0.0000e+00\n",
      "Epoch 2/50\n",
      "12/12 [==============================] - 0s 30ms/step - loss: 0.8798 - accuracy: 0.0000e+00 - val_loss: 0.5381 - val_accuracy: 0.0000e+00\n",
      "Epoch 3/50\n",
      "12/12 [==============================] - 0s 29ms/step - loss: 0.6349 - accuracy: 0.0000e+00 - val_loss: 0.4255 - val_accuracy: 0.0000e+00\n",
      "Epoch 4/50\n",
      "12/12 [==============================] - 0s 25ms/step - loss: 0.5335 - accuracy: 0.0000e+00 - val_loss: 0.3721 - val_accuracy: 0.0000e+00\n",
      "Epoch 5/50\n",
      "12/12 [==============================] - 0s 26ms/step - loss: 0.4813 - accuracy: 0.0000e+00 - val_loss: 0.3385 - val_accuracy: 0.0000e+00\n",
      "Epoch 6/50\n",
      "12/12 [==============================] - 0s 26ms/step - loss: 0.4442 - accuracy: 2.0833e-06 - val_loss: 0.3161 - val_accuracy: 0.0000e+00\n",
      "Epoch 7/50\n",
      "12/12 [==============================] - 0s 42ms/step - loss: 0.4210 - accuracy: 0.0000e+00 - val_loss: 0.2976 - val_accuracy: 0.0000e+00\n",
      "Epoch 8/50\n",
      "12/12 [==============================] - 0s 37ms/step - loss: 0.4021 - accuracy: 0.0000e+00 - val_loss: 0.2840 - val_accuracy: 0.0000e+00\n",
      "Epoch 9/50\n",
      "12/12 [==============================] - 0s 38ms/step - loss: 0.3826 - accuracy: 2.0833e-06 - val_loss: 0.2719 - val_accuracy: 0.0000e+00\n",
      "Epoch 10/50\n",
      "12/12 [==============================] - 0s 31ms/step - loss: 0.3665 - accuracy: 4.1667e-06 - val_loss: 0.2605 - val_accuracy: 0.0000e+00\n",
      "Epoch 11/50\n",
      "12/12 [==============================] - 0s 35ms/step - loss: 0.3592 - accuracy: 0.0000e+00 - val_loss: 0.2554 - val_accuracy: 0.0000e+00\n",
      "Epoch 12/50\n",
      "12/12 [==============================] - 0s 29ms/step - loss: 0.3459 - accuracy: 0.0000e+00 - val_loss: 0.2472 - val_accuracy: 0.0000e+00\n",
      "Epoch 13/50\n",
      "12/12 [==============================] - 0s 26ms/step - loss: 0.3358 - accuracy: 1.0417e-05 - val_loss: 0.2400 - val_accuracy: 0.0000e+00\n",
      "Epoch 14/50\n",
      "12/12 [==============================] - 0s 39ms/step - loss: 0.3310 - accuracy: 1.0417e-05 - val_loss: 0.2340 - val_accuracy: 0.0000e+00\n",
      "Epoch 15/50\n",
      "12/12 [==============================] - 0s 33ms/step - loss: 0.3205 - accuracy: 1.2500e-05 - val_loss: 0.2299 - val_accuracy: 0.0000e+00\n",
      "Epoch 16/50\n",
      "12/12 [==============================] - 0s 30ms/step - loss: 0.3137 - accuracy: 1.0417e-05 - val_loss: 0.2254 - val_accuracy: 0.0000e+00\n",
      "Epoch 17/50\n",
      "12/12 [==============================] - 0s 28ms/step - loss: 0.3076 - accuracy: 1.0417e-05 - val_loss: 0.2195 - val_accuracy: 0.0000e+00\n",
      "Epoch 18/50\n",
      "12/12 [==============================] - 0s 30ms/step - loss: 0.3001 - accuracy: 2.5000e-05 - val_loss: 0.2156 - val_accuracy: 0.0000e+00\n",
      "Epoch 19/50\n",
      "12/12 [==============================] - 0s 27ms/step - loss: 0.2953 - accuracy: 2.9167e-05 - val_loss: 0.2107 - val_accuracy: 0.0000e+00\n",
      "Epoch 20/50\n",
      "12/12 [==============================] - 0s 41ms/step - loss: 0.2907 - accuracy: 4.5833e-05 - val_loss: 0.2074 - val_accuracy: 0.0000e+00\n",
      "Epoch 21/50\n",
      "12/12 [==============================] - 1s 44ms/step - loss: 0.2838 - accuracy: 5.6250e-05 - val_loss: 0.2035 - val_accuracy: 0.0000e+00\n",
      "Epoch 22/50\n",
      "12/12 [==============================] - 0s 41ms/step - loss: 0.2795 - accuracy: 2.7083e-05 - val_loss: 0.2013 - val_accuracy: 0.0000e+00\n",
      "Epoch 23/50\n",
      "12/12 [==============================] - 0s 35ms/step - loss: 0.2756 - accuracy: 5.0000e-05 - val_loss: 0.1982 - val_accuracy: 0.0000e+00\n",
      "Epoch 24/50\n",
      "12/12 [==============================] - 0s 37ms/step - loss: 0.2716 - accuracy: 5.4167e-05 - val_loss: 0.1956 - val_accuracy: 0.0000e+00\n",
      "Epoch 25/50\n",
      "12/12 [==============================] - 1s 46ms/step - loss: 0.2669 - accuracy: 8.3333e-05 - val_loss: 0.1929 - val_accuracy: 0.0000e+00\n",
      "Epoch 26/50\n",
      "12/12 [==============================] - 0s 39ms/step - loss: 0.2643 - accuracy: 8.1250e-05 - val_loss: 0.1911 - val_accuracy: 0.0000e+00\n",
      "Epoch 27/50\n",
      "12/12 [==============================] - 0s 38ms/step - loss: 0.2638 - accuracy: 8.9583e-05 - val_loss: 0.1885 - val_accuracy: 0.0000e+00\n",
      "Epoch 28/50\n",
      "12/12 [==============================] - 0s 32ms/step - loss: 0.2591 - accuracy: 8.3333e-05 - val_loss: 0.1861 - val_accuracy: 0.0000e+00\n",
      "Epoch 29/50\n",
      "12/12 [==============================] - 0s 31ms/step - loss: 0.2592 - accuracy: 1.0833e-04 - val_loss: 0.1843 - val_accuracy: 0.0000e+00\n",
      "Epoch 30/50\n",
      "12/12 [==============================] - 0s 30ms/step - loss: 0.2531 - accuracy: 1.0000e-04 - val_loss: 0.1832 - val_accuracy: 0.0000e+00\n",
      "Epoch 31/50\n",
      "12/12 [==============================] - 0s 33ms/step - loss: 0.2518 - accuracy: 1.1250e-04 - val_loss: 0.1808 - val_accuracy: 8.3333e-06\n",
      "Epoch 32/50\n",
      "12/12 [==============================] - 0s 36ms/step - loss: 0.2474 - accuracy: 1.6250e-04 - val_loss: 0.1790 - val_accuracy: 3.3333e-05\n",
      "Epoch 33/50\n",
      "12/12 [==============================] - 1s 43ms/step - loss: 0.2451 - accuracy: 1.3542e-04 - val_loss: 0.1776 - val_accuracy: 4.1667e-05\n",
      "Epoch 34/50\n",
      "12/12 [==============================] - 1s 44ms/step - loss: 0.2426 - accuracy: 1.6667e-04 - val_loss: 0.1771 - val_accuracy: 5.0000e-05\n",
      "Epoch 35/50\n",
      "12/12 [==============================] - 0s 38ms/step - loss: 0.2447 - accuracy: 1.7083e-04 - val_loss: 0.1755 - val_accuracy: 4.1667e-05\n",
      "Epoch 36/50\n",
      "12/12 [==============================] - 0s 36ms/step - loss: 0.2401 - accuracy: 1.8958e-04 - val_loss: 0.1737 - val_accuracy: 4.1667e-05\n",
      "Epoch 37/50\n",
      "12/12 [==============================] - 0s 31ms/step - loss: 0.2363 - accuracy: 2.5000e-04 - val_loss: 0.1733 - val_accuracy: 6.6667e-05\n",
      "Epoch 38/50\n",
      "12/12 [==============================] - 0s 31ms/step - loss: 0.2332 - accuracy: 2.6042e-04 - val_loss: 0.1717 - val_accuracy: 1.0000e-04\n",
      "Epoch 39/50\n",
      "12/12 [==============================] - 0s 34ms/step - loss: 0.2328 - accuracy: 2.8333e-04 - val_loss: 0.1704 - val_accuracy: 9.1667e-05\n",
      "Epoch 40/50\n",
      "12/12 [==============================] - 0s 32ms/step - loss: 0.2315 - accuracy: 2.6667e-04 - val_loss: 0.1697 - val_accuracy: 9.1667e-05\n",
      "Epoch 41/50\n",
      "12/12 [==============================] - 0s 31ms/step - loss: 0.2268 - accuracy: 2.6667e-04 - val_loss: 0.1681 - val_accuracy: 1.0833e-04\n",
      "Epoch 42/50\n",
      "12/12 [==============================] - 0s 30ms/step - loss: 0.2276 - accuracy: 3.3750e-04 - val_loss: 0.1673 - val_accuracy: 1.3333e-04\n",
      "Epoch 43/50\n",
      "12/12 [==============================] - 0s 34ms/step - loss: 0.2270 - accuracy: 3.2292e-04 - val_loss: 0.1670 - val_accuracy: 1.1667e-04\n",
      "Epoch 44/50\n",
      "12/12 [==============================] - 1s 44ms/step - loss: 0.2250 - accuracy: 3.2708e-04 - val_loss: 0.1649 - val_accuracy: 1.1667e-04\n",
      "Epoch 45/50\n",
      "12/12 [==============================] - 0s 37ms/step - loss: 0.2223 - accuracy: 3.4583e-04 - val_loss: 0.1645 - val_accuracy: 1.2500e-04\n",
      "Epoch 46/50\n",
      "12/12 [==============================] - 0s 32ms/step - loss: 0.2219 - accuracy: 3.4167e-04 - val_loss: 0.1641 - val_accuracy: 1.7500e-04\n",
      "Epoch 47/50\n",
      "12/12 [==============================] - 0s 35ms/step - loss: 0.2171 - accuracy: 4.3125e-04 - val_loss: 0.1619 - val_accuracy: 1.8333e-04\n",
      "Epoch 48/50\n",
      "12/12 [==============================] - 0s 34ms/step - loss: 0.2197 - accuracy: 4.1875e-04 - val_loss: 0.1617 - val_accuracy: 2.5833e-04\n",
      "Epoch 49/50\n",
      "12/12 [==============================] - 0s 40ms/step - loss: 0.2161 - accuracy: 4.0208e-04 - val_loss: 0.1622 - val_accuracy: 2.6667e-04\n",
      "Epoch 50/50\n",
      "12/12 [==============================] - 0s 31ms/step - loss: 0.2142 - accuracy: 4.5625e-04 - val_loss: 0.1614 - val_accuracy: 2.7500e-04\n"
     ]
    }
   ],
   "source": [
    "model = create_model(learning_rate=0.003)\n",
    "history = train_model(model, X_train_normalized, y_train_encoded, validation_split=0.2, epochs=50, batch_size=4000)"
   ]
  },
  {
   "cell_type": "code",
   "execution_count": 30,
   "metadata": {
    "cellView": "form",
    "id": "QF0BFRXTOeR3"
   },
   "outputs": [],
   "source": [
    "# Helper plotting function\n",
    "#\n",
    "# history: the history object returned by the fit function\n",
    "# list_of_metrics: the metrics to plot\n",
    "def plot_curve(history):\n",
    "    \n",
    "    plt.figure()\n",
    "    plt.xlabel(\"Epoch\")\n",
    "    plt.ylabel(\"Value\")\n",
    "\n",
    "    epochs = history.epoch\n",
    "    hist = pd.DataFrame(history.history)\n",
    "\n",
    "    for m in hist.columns:\n",
    "        x = hist[m]\n",
    "        plt.plot(epochs[1:], x[1:], label=m, lw=2)\n",
    "\n",
    "    plt.legend()"
   ]
  },
  {
   "cell_type": "code",
   "execution_count": 31,
   "metadata": {},
   "outputs": [
    {
     "data": {
      "image/png": "[encoded data removed]",
      "text/plain": [
       "<Figure size 432x288 with 1 Axes>"
      ]
     },
     "metadata": {
      "needs_background": "light"
     },
     "output_type": "display_data"
    }
   ],
   "source": [
    "# obviously the network is too shallow and the hidden layer is too small\n",
    "plot_curve(history)"
   ]
  },
  {
   "cell_type": "markdown",
   "metadata": {
    "id": "Y5IKmk7D49_n"
   },
   "source": [
    "## Exercise 5: Optimize the model\n",
    "\n",
    "Try to optimize the model, either manually or with a tuning method. At least optimize the following:\n",
    "* the number of hidden layers \n",
    "* the number of nodes in each layer\n",
    "* the amount of dropout layers and the dropout rate\n",
    "\n",
    "Try to reach at least 96% accuracy against the test set."
   ]
  }
 ],
 "metadata": {
  "colab": {
   "collapsed_sections": [],
   "name": "Copy of Multi-class classification with MNIST.ipynb",
   "private_outputs": true,
   "provenance": []
  },
  "kernelspec": {
   "display_name": "Python 3 (ipykernel)",
   "language": "python",
   "name": "python3"
  },
  "language_info": {
   "codemirror_mode": {
    "name": "ipython",
    "version": 3
   },
   "file_extension": ".py",
   "mimetype": "text/x-python",
   "name": "python",
   "nbconvert_exporter": "python",
   "pygments_lexer": "ipython3",
   "version": "3.8.13"
  }
 },
 "nbformat": 4,
 "nbformat_minor": 4
}

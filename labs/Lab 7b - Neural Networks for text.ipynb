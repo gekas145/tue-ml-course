{
 "cells": [
  {
   "cell_type": "markdown",
   "metadata": {
    "slideshow": {
     "slide_type": "slide"
    }
   },
   "source": [
    "# Lab 7b: Neural Networks for text"
   ]
  },
  {
   "cell_type": "code",
   "execution_count": 1,
   "metadata": {
    "hide_input": false,
    "slideshow": {
     "slide_type": "skip"
    }
   },
   "outputs": [],
   "source": [
    "# General imports\n",
    "%matplotlib inline\n",
    "import numpy as np\n",
    "import pandas as pd\n",
    "import matplotlib.pyplot as plt\n",
    "import openml as oml\n",
    "import tensorflow as tf\n",
    "from tensorflow import keras\n",
    "from tensorflow.keras import layers"
   ]
  },
  {
   "cell_type": "markdown",
   "metadata": {},
   "source": [
    "Before you start, read the Tutorial for this lab ('Deep Learning with Python')"
   ]
  },
  {
   "cell_type": "markdown",
   "metadata": {
    "slideshow": {
     "slide_type": "slide"
    }
   },
   "source": [
    "## Exercise 1: Sentiment Analysis\n",
    "* Take the IMDB dataset from keras.datasets with 10000 words and the default train-test-split"
   ]
  },
  {
   "cell_type": "code",
   "execution_count": 4,
   "metadata": {
    "hide_input": true
   },
   "outputs": [
    {
     "name": "stdout",
     "output_type": "stream",
     "text": [
      "Review 0: ? this film was just brilliant casting location scenery story direction everyone's really suited the part they played and you\n",
      "Review 5: ? begins better than it ends funny that the russian submarine crew ? all other actors it's like those scenes\n",
      "Review 10: ? french horror cinema has seen something of a revival over the last couple of years with great films such\n"
     ]
    }
   ],
   "source": [
    "from tensorflow.keras.datasets import imdb\n",
    "# Download IMDB data with 10000 most frequent words\n",
    "word_index = imdb.get_word_index()\n",
    "(train_data, train_labels), (test_data, test_labels) = imdb.load_data(num_words=10000)\n",
    "reverse_word_index = dict([(value, key) for (key, value) in word_index.items()])\n",
    "\n",
    "for i in [0,5,10]:\n",
    "    print(\"Review {}:\".format(i),' '.join([reverse_word_index.get(i - 3, '?') for i in train_data[i]][0:20]))"
   ]
  },
  {
   "cell_type": "markdown",
   "metadata": {
    "slideshow": {
     "slide_type": "slide"
    }
   },
   "source": [
    "* Vectorize the reviews using one-hot-encoding (see tutorial for helper code) "
   ]
  },
  {
   "cell_type": "code",
   "execution_count": 5,
   "metadata": {},
   "outputs": [
    {
     "name": "stdout",
     "output_type": "stream",
     "text": [
      "Encoded review:  [1, 14, 22, 16, 43, 530, 973, 1622, 1385, 65]\n",
      "One-hot-encoded review:  [0. 1. 1. 0. 1. 1. 1. 1. 1. 1.]\n",
      "Label for the first review:  1.0\n"
     ]
    }
   ],
   "source": [
    "# Custom implementation of one-hot-encoding\n",
    "def vectorize_sequences(sequences, dimension=10000):\n",
    "    results = np.zeros((len(sequences), dimension))\n",
    "    for i, sequence in enumerate(sequences):\n",
    "        results[i, sequence] = 1.  # set specific indices of results[i] to 1s\n",
    "    return results\n",
    "x_train = vectorize_sequences(train_data)\n",
    "x_test = vectorize_sequences(test_data)\n",
    "print(\"Encoded review: \", train_data[0][0:10])\n",
    "print(\"One-hot-encoded review: \", x_train[0][0:10])\n",
    "\n",
    "# Convert 0/1 labels to float\n",
    "y_train = np.asarray(train_labels).astype('float32')\n",
    "y_test = np.asarray(test_labels).astype('float32')\n",
    "\n",
    "print(\"Label for the first review: \", y_train[0])"
   ]
  },
  {
   "cell_type": "markdown",
   "metadata": {},
   "source": [
    "* Build a network of 2 _Dense_ layers with 16 nodes each and the _ReLU_ activation function.\n",
    "* Use cross-entropy as the loss function, RMSprop as the optimizer, and accuracy as the evaluation metric."
   ]
  },
  {
   "cell_type": "code",
   "execution_count": 11,
   "metadata": {},
   "outputs": [],
   "source": [
    "model1 = keras.models.Sequential()\n",
    "model1.add(layers.Dense(16, activation='relu', input_shape=(10000,)))\n",
    "model1.add(layers.Dense(16, activation='relu'))\n",
    "model1.add(layers.Dense(1, activation='sigmoid'))\n",
    "\n",
    "model1.compile(optimizer='rmsprop',\n",
    "               loss='binary_crossentropy',\n",
    "               metrics=['accuracy'])"
   ]
  },
  {
   "cell_type": "markdown",
   "metadata": {},
   "source": [
    "* Plot the learning curves, using the first 10000 samples as the validation set and the rest as the training set.\n",
    "* Use 20 epochs and a batch size of 512"
   ]
  },
  {
   "cell_type": "code",
   "execution_count": 6,
   "metadata": {},
   "outputs": [],
   "source": [
    "# Helper plotting function\n",
    "#\n",
    "# history: the history object returned by the fit function\n",
    "# list_of_metrics: the metrics to plot\n",
    "def plot_curve(history, show_loss=True):\n",
    "    \n",
    "    plt.figure()\n",
    "    plt.xlabel(\"Epoch\")\n",
    "    plt.ylabel(\"Value\")\n",
    "\n",
    "    epochs = np.array(history.epoch) + 1\n",
    "    hist = pd.DataFrame(history.history)\n",
    "    \n",
    "    if show_loss:\n",
    "        plt.plot(epochs, hist[\"loss\"], label=\"loss\", lw=2, c=\"red\")\n",
    "        plt.plot(epochs, hist[\"val_loss\"], label=\"val_loss\", lw=2, c=\"blue\")\n",
    "    plt.plot(epochs, hist[\"accuracy\"], label=\"accuracy\", lw=2, c=\"red\", linestyle=\"--\")\n",
    "    plt.plot(epochs, hist[\"val_accuracy\"], label=\"val_accuracy\", lw=2, linestyle=\"--\", c=\"blue\")\n",
    "\n",
    "    plt.legend()"
   ]
  },
  {
   "cell_type": "code",
   "execution_count": null,
   "metadata": {},
   "outputs": [],
   "source": [
    "history1 = model1.fit(x_train[10000:], y_train[10000:], \n",
    "                      batch_size=512, \n",
    "                      epochs=20,\n",
    "                      validation_data=(x_train[:10000], y_train[:10000]))"
   ]
  },
  {
   "cell_type": "code",
   "execution_count": 19,
   "metadata": {},
   "outputs": [
    {
     "data": {
      "image/png": "[encoded data removed]",
      "text/plain": [
       "<Figure size 432x288 with 1 Axes>"
      ]
     },
     "metadata": {
      "needs_background": "light"
     },
     "output_type": "display_data"
    }
   ],
   "source": [
    "plot_curve(history1) # strong overfitting"
   ]
  },
  {
   "cell_type": "code",
   "execution_count": 53,
   "metadata": {},
   "outputs": [
    {
     "name": "stdout",
     "output_type": "stream",
     "text": [
      "782/782 [==============================] - 2s 2ms/step - loss: 0.5761 - accuracy: 0.8587\n"
     ]
    },
    {
     "data": {
      "text/plain": [
       "[0.5761016011238098, 0.858680009841919]"
      ]
     },
     "execution_count": 53,
     "metadata": {},
     "output_type": "execute_result"
    }
   ],
   "source": [
    "model1.evaluate(x_test, y_test)"
   ]
  },
  {
   "cell_type": "markdown",
   "metadata": {
    "slideshow": {
     "slide_type": "slide"
    }
   },
   "source": [
    "* Retrain the model, this time using early stopping to stop training at the optimal time\n",
    "* Evaluate on the test set and report the accuracy"
   ]
  },
  {
   "cell_type": "code",
   "execution_count": 21,
   "metadata": {},
   "outputs": [],
   "source": [
    "model2 = keras.models.Sequential()\n",
    "model2.add(layers.Dense(16, activation='relu', input_shape=(10000,)))\n",
    "model2.add(layers.Dense(16, activation='relu'))\n",
    "model2.add(layers.Dense(1, activation='sigmoid'))\n",
    "\n",
    "early_stopping = keras.callbacks.EarlyStopping(monitor='val_loss', patience=3)\n",
    "\n",
    "model2.compile(optimizer='rmsprop',\n",
    "               loss='binary_crossentropy',\n",
    "               metrics=['accuracy'])"
   ]
  },
  {
   "cell_type": "code",
   "execution_count": null,
   "metadata": {},
   "outputs": [],
   "source": [
    "history2 = model2.fit(x_train[10000:], y_train[10000:], \n",
    "                      batch_size=512, \n",
    "                      epochs=20,\n",
    "                      validation_data=(x_train[:10000], y_train[:10000]),\n",
    "                      callbacks=[early_stopping])"
   ]
  },
  {
   "cell_type": "code",
   "execution_count": 23,
   "metadata": {},
   "outputs": [
    {
     "data": {
      "image/png": "[encoded data removed]",
      "text/plain": [
       "<Figure size 432x288 with 1 Axes>"
      ]
     },
     "metadata": {
      "needs_background": "light"
     },
     "output_type": "display_data"
    }
   ],
   "source": [
    "plot_curve(history2) # verfitting reduced a bit, but is still visible"
   ]
  },
  {
   "cell_type": "code",
   "execution_count": 26,
   "metadata": {},
   "outputs": [
    {
     "name": "stdout",
     "output_type": "stream",
     "text": [
      "782/782 [==============================] - 2s 2ms/step - loss: 0.3175 - accuracy: 0.8747\n"
     ]
    },
    {
     "data": {
      "text/plain": [
       "[0.3175227642059326, 0.8747199773788452]"
      ]
     },
     "execution_count": 26,
     "metadata": {},
     "output_type": "execute_result"
    }
   ],
   "source": [
    "model2.evaluate(x_test, y_test)"
   ]
  },
  {
   "cell_type": "markdown",
   "metadata": {
    "slideshow": {
     "slide_type": "slide"
    }
   },
   "source": [
    "* Try to manually improve the score and explain what you observe. E.g. you could:\n",
    "    - Try 3 hidden layers\n",
    "    - Change to a higher learning rate (e.g. 0.4)\n",
    "    - Try another optimizer (e.g. Adagrad)\n",
    "    - Use more or fewer hidden units (e.g. 64)\n",
    "    - `tanh` activation instead of `ReLU`"
   ]
  },
  {
   "cell_type": "code",
   "execution_count": 49,
   "metadata": {},
   "outputs": [],
   "source": [
    "model3 = keras.models.Sequential()\n",
    "model3.add(layers.Dense(128, activation='tanh', input_shape=(10000,)))\n",
    "model3.add(layers.BatchNormalization())\n",
    "model3.add(layers.Dense(128, activation='tanh'))\n",
    "model3.add(layers.BatchNormalization())\n",
    "model3.add(layers.Dense(64, activation='tanh'))\n",
    "model3.add(layers.BatchNormalization())\n",
    "model3.add(layers.Dense(1, activation='sigmoid'))\n",
    "\n",
    "early_stopping = keras.callbacks.EarlyStopping(monitor='val_loss', patience=3)\n",
    "\n",
    "model3.compile(optimizer=keras.optimizers.Adam(learning_rate=0.001),\n",
    "               loss='binary_crossentropy',\n",
    "               metrics=['accuracy'])"
   ]
  },
  {
   "cell_type": "code",
   "execution_count": null,
   "metadata": {},
   "outputs": [],
   "source": [
    "history3 = model3.fit(x_train[10000:], y_train[10000:], \n",
    "                      batch_size=512, \n",
    "                      epochs=20,\n",
    "                      validation_data=(x_train[:10000], y_train[:10000]),\n",
    "                      callbacks=[early_stopping])"
   ]
  },
  {
   "cell_type": "code",
   "execution_count": 51,
   "metadata": {},
   "outputs": [
    {
     "data": {
      "image/png": "[encoded data removed]",
      "text/plain": [
       "<Figure size 432x288 with 1 Axes>"
      ]
     },
     "metadata": {
      "needs_background": "light"
     },
     "output_type": "display_data"
    }
   ],
   "source": [
    "plot_curve(history3)"
   ]
  },
  {
   "cell_type": "code",
   "execution_count": 52,
   "metadata": {},
   "outputs": [
    {
     "name": "stdout",
     "output_type": "stream",
     "text": [
      "782/782 [==============================] - 3s 4ms/step - loss: 0.4863 - accuracy: 0.8598\n"
     ]
    },
    {
     "data": {
      "text/plain": [
       "[0.48633626103401184, 0.8598399758338928]"
      ]
     },
     "execution_count": 52,
     "metadata": {},
     "output_type": "execute_result"
    }
   ],
   "source": [
    "model3.evaluate(x_test, y_test) # accuracy on test even decreased"
   ]
  },
  {
   "cell_type": "markdown",
   "metadata": {},
   "source": [
    "* Tune the results by doing a grid search for the most interesting hyperparameters\n",
    "    * Tune the learning rate between 0.001 and 1\n",
    "    * Tune the number of epochs between 1 and 20\n",
    "    * Use only 3-4 values for each"
   ]
  },
  {
   "cell_type": "code",
   "execution_count": 5,
   "metadata": {},
   "outputs": [],
   "source": [
    "from matplotlib.pyplot import figure\n",
    "\n",
    "def heatmap(values, xlabel, ylabel, xticklabels, yticklabels, cmap=None,\n",
    "            vmin=None, vmax=None, ax=None, fmt=\"%0.2f\"):\n",
    "    \n",
    "    figure(figsize=(8, 8), dpi=80)\n",
    "    if ax is None:\n",
    "        ax = plt.gca()\n",
    "    # plot the mean cross-validation scores\n",
    "    img = ax.pcolor(values, cmap=cmap, vmin=None, vmax=None)\n",
    "    img.update_scalarmappable()\n",
    "    ax.set_xlabel(xlabel)\n",
    "    ax.set_ylabel(ylabel)\n",
    "    ax.set_xticks(np.arange(len(xticklabels)) + .5)\n",
    "    ax.set_yticks(np.arange(len(yticklabels)) + .5)\n",
    "    ax.set_xticklabels(xticklabels)\n",
    "    ax.set_yticklabels(yticklabels)\n",
    "    ax.set_aspect(1)\n",
    "\n",
    "    for p, color, value in zip(img.get_paths(), img.get_facecolors(), img.get_array()):\n",
    "        x, y = p.vertices[:-2, :].mean(0)\n",
    "        if np.mean(color[:3]) > 0.5:\n",
    "            c = 'k'\n",
    "        else:\n",
    "            c = 'w'\n",
    "        ax.text(x, y, fmt % value, color=c, ha=\"center\", va=\"center\")\n",
    "    return img"
   ]
  },
  {
   "cell_type": "code",
   "execution_count": 6,
   "metadata": {},
   "outputs": [],
   "source": [
    "def build_model(lr):\n",
    "    model = keras.models.Sequential()\n",
    "    model.add(layers.Dense(16, activation='relu', input_shape=(10000,)))\n",
    "    model.add(layers.Dense(16, activation='relu'))\n",
    "    model.add(layers.Dense(1, activation='sigmoid'))\n",
    "\n",
    "    model.compile(optimizer=keras.optimizers.RMSprop(learning_rate=lr),\n",
    "                  loss='binary_crossentropy',\n",
    "                  metrics=['accuracy'])\n",
    "    \n",
    "    return model\n"
   ]
  },
  {
   "cell_type": "code",
   "execution_count": 7,
   "metadata": {},
   "outputs": [],
   "source": [
    "params = {\"lr\": np.linspace(0.001, 1, 4),\n",
    "          \"epochs\": np.linspace(2, 20, 4, dtype=int)}\n",
    "\n",
    "results = []\n",
    "\n",
    "for lr in params[\"lr\"]:\n",
    "    for epochs in params[\"epochs\"]:\n",
    "        model = build_model(lr)\n",
    "        model.fit(x_train[10000:], y_train[10000:], \n",
    "                  batch_size=512, \n",
    "                  epochs=epochs,\n",
    "                  validation_data=(x_train[:10000], y_train[:10000]),\n",
    "                  verbose=0)\n",
    "        val_acc = model.evaluate(x_train[:10000], y_train[:10000], verbose=0)[1]\n",
    "        test_acc = model.evaluate(x_test, y_test, verbose=0)[1]\n",
    "        results.append([epochs, lr, val_acc, test_acc])"
   ]
  },
  {
   "cell_type": "code",
   "execution_count": 8,
   "metadata": {},
   "outputs": [
    {
     "data": {
      "text/html": [
       "<div>\n",
       "<style scoped>\n",
       "    .dataframe tbody tr th:only-of-type {\n",
       "        vertical-align: middle;\n",
       "    }\n",
       "\n",
       "    .dataframe tbody tr th {\n",
       "        vertical-align: top;\n",
       "    }\n",
       "\n",
       "    .dataframe thead th {\n",
       "        text-align: right;\n",
       "    }\n",
       "</style>\n",
       "<table border=\"1\" class=\"dataframe\">\n",
       "  <thead>\n",
       "    <tr style=\"text-align: right;\">\n",
       "      <th></th>\n",
       "      <th></th>\n",
       "      <th>val_acc</th>\n",
       "      <th>test_acc</th>\n",
       "    </tr>\n",
       "    <tr>\n",
       "      <th>learning_rate</th>\n",
       "      <th>epochs</th>\n",
       "      <th></th>\n",
       "      <th></th>\n",
       "    </tr>\n",
       "  </thead>\n",
       "  <tbody>\n",
       "    <tr>\n",
       "      <th rowspan=\"4\" valign=\"top\">0.001</th>\n",
       "      <th>2</th>\n",
       "      <td>0.8838</td>\n",
       "      <td>0.87988</td>\n",
       "    </tr>\n",
       "    <tr>\n",
       "      <th>8</th>\n",
       "      <td>0.8787</td>\n",
       "      <td>0.86904</td>\n",
       "    </tr>\n",
       "    <tr>\n",
       "      <th>14</th>\n",
       "      <td>0.8725</td>\n",
       "      <td>0.86112</td>\n",
       "    </tr>\n",
       "    <tr>\n",
       "      <th>20</th>\n",
       "      <td>0.8697</td>\n",
       "      <td>0.85748</td>\n",
       "    </tr>\n",
       "    <tr>\n",
       "      <th rowspan=\"4\" valign=\"top\">0.334</th>\n",
       "      <th>2</th>\n",
       "      <td>0.5012</td>\n",
       "      <td>0.50604</td>\n",
       "    </tr>\n",
       "    <tr>\n",
       "      <th>8</th>\n",
       "      <td>0.4947</td>\n",
       "      <td>0.50000</td>\n",
       "    </tr>\n",
       "    <tr>\n",
       "      <th>14</th>\n",
       "      <td>0.5053</td>\n",
       "      <td>0.50000</td>\n",
       "    </tr>\n",
       "    <tr>\n",
       "      <th>20</th>\n",
       "      <td>0.5054</td>\n",
       "      <td>0.50000</td>\n",
       "    </tr>\n",
       "    <tr>\n",
       "      <th rowspan=\"4\" valign=\"top\">0.667</th>\n",
       "      <th>2</th>\n",
       "      <td>0.4970</td>\n",
       "      <td>0.50200</td>\n",
       "    </tr>\n",
       "    <tr>\n",
       "      <th>8</th>\n",
       "      <td>0.5053</td>\n",
       "      <td>0.50000</td>\n",
       "    </tr>\n",
       "    <tr>\n",
       "      <th>14</th>\n",
       "      <td>0.5053</td>\n",
       "      <td>0.50000</td>\n",
       "    </tr>\n",
       "    <tr>\n",
       "      <th>20</th>\n",
       "      <td>0.5054</td>\n",
       "      <td>0.49996</td>\n",
       "    </tr>\n",
       "    <tr>\n",
       "      <th rowspan=\"4\" valign=\"top\">1.000</th>\n",
       "      <th>2</th>\n",
       "      <td>0.5009</td>\n",
       "      <td>0.50708</td>\n",
       "    </tr>\n",
       "    <tr>\n",
       "      <th>8</th>\n",
       "      <td>0.4946</td>\n",
       "      <td>0.50016</td>\n",
       "    </tr>\n",
       "    <tr>\n",
       "      <th>14</th>\n",
       "      <td>0.5053</td>\n",
       "      <td>0.50000</td>\n",
       "    </tr>\n",
       "    <tr>\n",
       "      <th>20</th>\n",
       "      <td>0.4947</td>\n",
       "      <td>0.50000</td>\n",
       "    </tr>\n",
       "  </tbody>\n",
       "</table>\n",
       "</div>"
      ],
      "text/plain": [
       "                      val_acc  test_acc\n",
       "learning_rate epochs                   \n",
       "0.001         2        0.8838   0.87988\n",
       "              8        0.8787   0.86904\n",
       "              14       0.8725   0.86112\n",
       "              20       0.8697   0.85748\n",
       "0.334         2        0.5012   0.50604\n",
       "              8        0.4947   0.50000\n",
       "              14       0.5053   0.50000\n",
       "              20       0.5054   0.50000\n",
       "0.667         2        0.4970   0.50200\n",
       "              8        0.5053   0.50000\n",
       "              14       0.5053   0.50000\n",
       "              20       0.5054   0.49996\n",
       "1.000         2        0.5009   0.50708\n",
       "              8        0.4946   0.50016\n",
       "              14       0.5053   0.50000\n",
       "              20       0.4947   0.50000"
      ]
     },
     "execution_count": 8,
     "metadata": {},
     "output_type": "execute_result"
    }
   ],
   "source": [
    "results_pd = pd.DataFrame(results, columns=[\"epochs\", \"learning_rate\", \"val_acc\", \"test_acc\"])\n",
    "results_pd.set_index([\"learning_rate\", \"epochs\"])"
   ]
  },
  {
   "cell_type": "code",
   "execution_count": 63,
   "metadata": {},
   "outputs": [
    {
     "name": "stdout",
     "output_type": "stream",
     "text": [
      "Best result:: val_acc: 0.883, test_acc: 0.871\n",
      "Best params:: epochs: 8, learning_rate: 0.001\n"
     ]
    }
   ],
   "source": [
    "best_params = max(results, key=lambda x: x[2]) # chosen by val_acc,\n",
    "# as test data is technically unavailable during grid search\n",
    "print(f'Best result:: val_acc: {best_params[2]:.3f}, test_acc: {best_params[3]:.3f}')\n",
    "print(f'Best params:: epochs: {best_params[0]}, learning_rate: {best_params[1]}')"
   ]
  },
  {
   "cell_type": "code",
   "execution_count": 9,
   "metadata": {},
   "outputs": [],
   "source": [
    "values = np.array([r[2] for r in results])\n",
    "values = values.reshape(4, 4)"
   ]
  },
  {
   "cell_type": "code",
   "execution_count": 10,
   "metadata": {
    "scrolled": false
   },
   "outputs": [
    {
     "data": {
      "image/png": "[encoded data removed]",
      "text/plain": [
       "<Figure size 640x640 with 1 Axes>"
      ]
     },
     "metadata": {
      "needs_background": "light"
     },
     "output_type": "display_data"
    }
   ],
   "source": [
    "heatmap(values, 'epochs', 'learning_rate', params['epochs'], params['lr'])\n",
    "plt.show()"
   ]
  },
  {
   "cell_type": "markdown",
   "metadata": {},
   "source": [
    "* Epochs do not matter much, it is important to have learning rate that is not too big though.\n",
    "* May be beneficial to check learning rate with smaller step."
   ]
  },
  {
   "cell_type": "markdown",
   "metadata": {
    "slideshow": {
     "slide_type": "slide"
    }
   },
   "source": [
    "## Exercise 2: Topic classification\n",
    "* Take the Reuters dataset from keras.datasets with 10000 words and the default train-test-split"
   ]
  },
  {
   "cell_type": "code",
   "execution_count": 11,
   "metadata": {
    "hide_input": true
   },
   "outputs": [
    {
     "name": "stdout",
     "output_type": "stream",
     "text": [
      "Downloading data from https://storage.googleapis.com/tensorflow/tf-keras-datasets/reuters.npz\n",
      "2110848/2110848 [==============================] - 1s 0us/step\n",
      "Downloading data from https://storage.googleapis.com/tensorflow/tf-keras-datasets/reuters_word_index.json\n",
      "550378/550378 [==============================] - 1s 1us/step\n",
      "News wire 0: ? ? ? said as a result of its december acquisition of space co it expects earnings per share in 1987 of 1 15 to 1 30 dlrs per share up from 70 cts in 1986 the company said pretax net should rise to nine to 10 mln dlrs from six mln dlrs in 1986 and rental operation revenues to 19 to 22 mln dlrs from 12 5 mln dlrs it said cash flow per share this year should be 2 50 to three dlrs reuter 3\n",
      "News wire 5: ? the u s agriculture department estimated canada's 1986 87 wheat crop at 31 85 mln tonnes vs 31 85 mln tonnes last month it estimated 1985 86 output at 24 25 mln tonnes vs 24 25 mln last month canadian 1986 87 coarse grain production is projected at 27 62 mln tonnes vs 27 62 mln tonnes last month production in 1985 86 is estimated at 24 95 mln tonnes vs 24 95 mln last month canadian wheat exports in 1986 87 are forecast at 19 00 mln tonnes vs 18 00 mln tonnes last month exports in 1985 86 are estimated at 17 71 mln tonnes vs 17 72 mln last month reuter 3\n",
      "News wire 10: ? period ended december 31 shr profit 11 cts vs loss 24 cts net profit 224 271 vs loss 511 349 revs 7 258 688 vs 7 200 349 reuter 3\n"
     ]
    }
   ],
   "source": [
    "from keras.datasets import reuters\n",
    "\n",
    "(train_data, train_labels), (test_data, test_labels) = reuters.load_data(num_words=10000)\n",
    "word_index = reuters.get_word_index()\n",
    "reverse_word_index = dict([(value, key) for (key, value) in word_index.items()])\n",
    "\n",
    "for i in [0,5,10]:\n",
    "    print(\"News wire {}:\".format(i),\n",
    "          ' '.join([reverse_word_index.get(i - 3, '?') for i in train_data[i]]))\n",
    "    # Note that our indices were offset by 3"
   ]
  },
  {
   "cell_type": "code",
   "execution_count": 18,
   "metadata": {},
   "outputs": [
    {
     "name": "stdout",
     "output_type": "stream",
     "text": [
      "0 55\n",
      "1 432\n",
      "2 74\n",
      "3 3159\n",
      "4 1949\n",
      "5 17\n",
      "6 48\n",
      "7 16\n",
      "8 139\n",
      "9 101\n",
      "10 124\n",
      "11 390\n",
      "12 49\n",
      "13 172\n",
      "14 26\n",
      "15 20\n",
      "16 444\n",
      "17 39\n",
      "18 66\n",
      "19 549\n",
      "20 269\n",
      "21 100\n",
      "22 15\n",
      "23 41\n",
      "24 62\n",
      "25 92\n",
      "26 24\n",
      "27 15\n",
      "28 48\n",
      "29 19\n",
      "30 45\n",
      "31 39\n",
      "32 32\n",
      "33 11\n",
      "34 50\n",
      "35 10\n",
      "36 49\n",
      "37 19\n",
      "38 19\n",
      "39 24\n",
      "40 36\n",
      "41 30\n",
      "42 13\n",
      "43 21\n",
      "44 12\n",
      "45 18\n"
     ]
    }
   ],
   "source": [
    "topics, counts = np.unique(train_labels, return_counts=True)\n",
    "for t, c in zip(topics, counts):\n",
    "    print(t, c)"
   ]
  },
  {
   "cell_type": "markdown",
   "metadata": {
    "slideshow": {
     "slide_type": "slide"
    }
   },
   "source": [
    "* Vectorize the data and the labels using one-hot-encoding"
   ]
  },
  {
   "cell_type": "code",
   "execution_count": 13,
   "metadata": {},
   "outputs": [
    {
     "name": "stdout",
     "output_type": "stream",
     "text": [
      "Encoded review:  [1, 2, 2, 8, 43, 10, 447, 5, 25, 207]\n",
      "One-hot-encoded review:  [0. 1. 1. 0. 1. 1. 1. 1. 1. 1.]\n"
     ]
    }
   ],
   "source": [
    "x_train = vectorize_sequences(train_data)\n",
    "x_test = vectorize_sequences(test_data)\n",
    "print(\"Encoded review: \", train_data[0][0:10])\n",
    "print(\"One-hot-encoded review: \", x_train[0][0:10])"
   ]
  },
  {
   "cell_type": "markdown",
   "metadata": {
    "slideshow": {
     "slide_type": "slide"
    }
   },
   "source": [
    "* Build a network with 2 dense layers of 64 nodes each\n",
    "* Make sensible choices about the activation functions, loss, ..."
   ]
  },
  {
   "cell_type": "code",
   "execution_count": 25,
   "metadata": {},
   "outputs": [],
   "source": [
    "model = keras.models.Sequential()\n",
    "model.add(layers.Dense(64, activation='relu', input_shape=(10000,)))\n",
    "model.add(layers.Dense(64, activation='relu'))\n",
    "model.add(layers.Dense(len(topics)))\n",
    "\n",
    "model.compile(optimizer=keras.optimizers.RMSprop(learning_rate=1e-3),\n",
    "              loss=keras.losses.SparseCategoricalCrossentropy(from_logits=True),\n",
    "              metrics=['accuracy'])"
   ]
  },
  {
   "cell_type": "markdown",
   "metadata": {
    "slideshow": {
     "slide_type": "slide"
    }
   },
   "source": [
    "* Take a validation set from the first 1000 points of the training set\n",
    "* Fit the model with 20 epochs and a batch size of 512\n",
    "* Plot the learning curves"
   ]
  },
  {
   "cell_type": "code",
   "execution_count": 26,
   "metadata": {},
   "outputs": [],
   "source": [
    "history = model.fit(x_train[1000:], train_labels[1000:], \n",
    "                    batch_size=512, \n",
    "                    epochs=20,\n",
    "                    validation_data=(x_train[:1000], train_labels[:1000]),\n",
    "                    verbose=0)"
   ]
  },
  {
   "cell_type": "code",
   "execution_count": 27,
   "metadata": {},
   "outputs": [
    {
     "data": {
      "image/png": "[encoded data removed]",
      "text/plain": [
       "<Figure size 432x288 with 1 Axes>"
      ]
     },
     "metadata": {
      "needs_background": "light"
     },
     "output_type": "display_data"
    }
   ],
   "source": [
    "plot_curve(history) # clear overfitting"
   ]
  },
  {
   "cell_type": "code",
   "execution_count": 29,
   "metadata": {},
   "outputs": [
    {
     "name": "stdout",
     "output_type": "stream",
     "text": [
      "71/71 [==============================] - 1s 7ms/step - loss: 1.0571 - accuracy: 0.7872\n"
     ]
    },
    {
     "data": {
      "text/plain": [
       "[1.0571476221084595, 0.7871772050857544]"
      ]
     },
     "execution_count": 29,
     "metadata": {},
     "output_type": "execute_result"
    }
   ],
   "source": [
    "model.evaluate(x_test, test_labels)"
   ]
  },
  {
   "cell_type": "markdown",
   "metadata": {
    "slideshow": {
     "slide_type": "slide"
    }
   },
   "source": [
    "* Create an information bottleneck: rebuild the model, but now use only 4 hidden units in the second layer. Evaluate the model. Does it still perform well?"
   ]
  },
  {
   "cell_type": "code",
   "execution_count": 30,
   "metadata": {},
   "outputs": [
    {
     "name": "stdout",
     "output_type": "stream",
     "text": [
      "71/71 [==============================] - 1s 6ms/step - loss: 1.3474 - accuracy: 0.6843\n"
     ]
    },
    {
     "data": {
      "text/plain": [
       "[1.3474082946777344, 0.6843277215957642]"
      ]
     },
     "execution_count": 30,
     "metadata": {},
     "output_type": "execute_result"
    },
    {
     "data": {
      "image/png": "[encoded data removed]",
      "text/plain": [
       "<Figure size 432x288 with 1 Axes>"
      ]
     },
     "metadata": {
      "needs_background": "light"
     },
     "output_type": "display_data"
    }
   ],
   "source": [
    "model1 = keras.models.Sequential()\n",
    "model1.add(layers.Dense(64, activation='relu', input_shape=(10000,)))\n",
    "model1.add(layers.Dense(4, activation='relu'))\n",
    "model1.add(layers.Dense(len(topics)))\n",
    "\n",
    "model1.compile(optimizer=keras.optimizers.RMSprop(learning_rate=1e-3),\n",
    "              loss=keras.losses.SparseCategoricalCrossentropy(from_logits=True),\n",
    "              metrics=['accuracy'])\n",
    "\n",
    "history1 = model1.fit(x_train[1000:], train_labels[1000:], \n",
    "                    batch_size=512, \n",
    "                    epochs=20,\n",
    "                    validation_data=(x_train[:1000], train_labels[:1000]),\n",
    "                    verbose=0)\n",
    "\n",
    "plot_curve(history1)\n",
    "\n",
    "model1.evaluate(x_test, test_labels)\n",
    "# model now overfits much less, which was expected, as 4 nodes in 2nd layer is too small\n",
    "# model is still performing well though(68% acc on test set)"
   ]
  },
  {
   "cell_type": "markdown",
   "metadata": {},
   "source": [
    "## Exercise 3: Regularization\n",
    "* Go back to the IMDB dataset\n",
    "* Retrain with only 4 units per layer\n",
    "* Plot the results. What do you observe?"
   ]
  },
  {
   "cell_type": "code",
   "execution_count": 8,
   "metadata": {},
   "outputs": [
    {
     "name": "stdout",
     "output_type": "stream",
     "text": [
      "Encoded review:  [1, 14, 22, 16, 43, 530, 973, 1622, 1385, 65]\n",
      "One-hot-encoded review:  [0. 1. 1. 0. 1. 1. 1. 1. 1. 1.]\n"
     ]
    }
   ],
   "source": [
    "from tensorflow.keras.datasets import imdb\n",
    "# Download IMDB data with 10000 most frequent words\n",
    "word_index = imdb.get_word_index()\n",
    "(train_data, train_labels), (test_data, test_labels) = imdb.load_data(num_words=10000)\n",
    "reverse_word_index = dict([(value, key) for (key, value) in word_index.items()])\n",
    "\n",
    "x_train = vectorize_sequences(train_data)\n",
    "x_test = vectorize_sequences(test_data)\n",
    "print(\"Encoded review: \", train_data[0][0:10])\n",
    "print(\"One-hot-encoded review: \", x_train[0][0:10])\n",
    "\n",
    "# Convert 0/1 labels to float\n",
    "y_train = np.asarray(train_labels).astype('float32')\n",
    "y_test = np.asarray(test_labels).astype('float32')"
   ]
  },
  {
   "cell_type": "code",
   "execution_count": 23,
   "metadata": {},
   "outputs": [],
   "source": [
    "model = keras.models.Sequential()\n",
    "model.add(layers.Dense(4, activation='relu', input_shape=(10000, )))\n",
    "model.add(layers.Dense(4, activation='relu'))\n",
    "model.add(layers.Dense(1))\n",
    "\n",
    "model.compile(optimizer=keras.optimizers.RMSprop(),\n",
    "              loss=keras.losses.BinaryCrossentropy(from_logits=True),\n",
    "              metrics=['accuracy'])"
   ]
  },
  {
   "cell_type": "code",
   "execution_count": 24,
   "metadata": {},
   "outputs": [],
   "source": [
    "history = model.fit(x_train[10000:], y_train[10000:], \n",
    "                    batch_size=512, \n",
    "                    epochs=20,\n",
    "                    validation_data=(x_train[:10000], y_train[:10000]),\n",
    "                    verbose=0)"
   ]
  },
  {
   "cell_type": "code",
   "execution_count": 25,
   "metadata": {},
   "outputs": [
    {
     "data": {
      "image/png": "[encoded data removed]",
      "text/plain": [
       "<Figure size 432x288 with 1 Axes>"
      ]
     },
     "metadata": {
      "needs_background": "light"
     },
     "output_type": "display_data"
    }
   ],
   "source": [
    "plot_curve(history)"
   ]
  },
  {
   "cell_type": "code",
   "execution_count": 26,
   "metadata": {},
   "outputs": [
    {
     "name": "stdout",
     "output_type": "stream",
     "text": [
      "782/782 [==============================] - 4s 4ms/step - loss: 0.4513 - accuracy: 0.8541\n"
     ]
    },
    {
     "data": {
      "text/plain": [
       "[0.45127788186073303, 0.8540800213813782]"
      ]
     },
     "execution_count": 26,
     "metadata": {},
     "output_type": "execute_result"
    }
   ],
   "source": [
    "model.evaluate(x_test, y_test)"
   ]
  },
  {
   "cell_type": "markdown",
   "metadata": {},
   "source": [
    "* A bit less overfitting in comparison with bigger model.\n",
    "* Accuracy is more or loess the same: 85.87%(bigger model) vs 85.41% now."
   ]
  },
  {
   "cell_type": "markdown",
   "metadata": {
    "slideshow": {
     "slide_type": "slide"
    }
   },
   "source": [
    "* Use 16 hidden nodes in the layers again, but now add weight regularization. Use L2 loss with alpha=0.001. What do you observe?"
   ]
  },
  {
   "cell_type": "code",
   "execution_count": 27,
   "metadata": {},
   "outputs": [
    {
     "name": "stdout",
     "output_type": "stream",
     "text": [
      "782/782 [==============================] - 4s 4ms/step - loss: 0.4467 - accuracy: 0.8615\n"
     ]
    },
    {
     "data": {
      "text/plain": [
       "[0.44670870900154114, 0.8614799976348877]"
      ]
     },
     "execution_count": 27,
     "metadata": {},
     "output_type": "execute_result"
    },
    {
     "data": {
      "image/png": "[encoded data removed]",
      "text/plain": [
       "<Figure size 432x288 with 1 Axes>"
      ]
     },
     "metadata": {
      "needs_background": "light"
     },
     "output_type": "display_data"
    }
   ],
   "source": [
    "model1 = keras.models.Sequential()\n",
    "model1.add(layers.Dense(16, \n",
    "                        activation='relu', \n",
    "                        input_shape=(10000, ), \n",
    "                        kernel_regularizer=keras.regularizers.L2(1e-3)))\n",
    "\n",
    "model1.add(layers.Dense(16, \n",
    "                        activation='relu', \n",
    "                        kernel_regularizer=keras.regularizers.L2(1e-3)))\n",
    "\n",
    "model1.add(layers.Dense(1, \n",
    "                        kernel_regularizer=keras.regularizers.L2(1e-3)))\n",
    "\n",
    "model1.compile(optimizer=keras.optimizers.RMSprop(),\n",
    "              loss=keras.losses.BinaryCrossentropy(from_logits=True),\n",
    "              metrics=['accuracy'])\n",
    "\n",
    "history1 = model1.fit(x_train[10000:], y_train[10000:], \n",
    "                    batch_size=512, \n",
    "                    epochs=20,\n",
    "                    validation_data=(x_train[:10000], y_train[:10000]),\n",
    "                    verbose=0)\n",
    "\n",
    "plot_curve(history1)\n",
    "\n",
    "model1.evaluate(x_test, y_test)"
   ]
  },
  {
   "cell_type": "markdown",
   "metadata": {},
   "source": [
    "* Accuracy is a bit up.\n",
    "* Gap on losses between train and val is a bit smaller and does not grow too fast."
   ]
  },
  {
   "cell_type": "markdown",
   "metadata": {
    "slideshow": {
     "slide_type": "slide"
    }
   },
   "source": [
    "* Add a drop out layer after every dense layer. Use a dropout rate of 0.5. What do you observe?"
   ]
  },
  {
   "cell_type": "code",
   "execution_count": 29,
   "metadata": {},
   "outputs": [
    {
     "name": "stdout",
     "output_type": "stream",
     "text": [
      "782/782 [==============================] - 4s 5ms/step - loss: 0.4688 - accuracy: 0.8752\n"
     ]
    },
    {
     "data": {
      "text/plain": [
       "[0.4687761068344116, 0.8751999735832214]"
      ]
     },
     "execution_count": 29,
     "metadata": {},
     "output_type": "execute_result"
    },
    {
     "data": {
      "image/png": "[encoded data removed]",
      "text/plain": [
       "<Figure size 432x288 with 1 Axes>"
      ]
     },
     "metadata": {
      "needs_background": "light"
     },
     "output_type": "display_data"
    }
   ],
   "source": [
    "model2 = keras.models.Sequential()\n",
    "model2.add(layers.Dense(16, \n",
    "                        activation='relu', \n",
    "                        input_shape=(10000, ), \n",
    "                        kernel_regularizer=keras.regularizers.L2(1e-3)))\n",
    "model2.add(layers.Dropout(0.5))\n",
    "model2.add(layers.Dense(16, \n",
    "                        activation='relu', \n",
    "                        kernel_regularizer=keras.regularizers.L2(1e-3)))\n",
    "model2.add(layers.Dropout(0.5))\n",
    "model2.add(layers.Dense(1, \n",
    "                        kernel_regularizer=keras.regularizers.L2(1e-3)))\n",
    "\n",
    "model2.compile(optimizer=keras.optimizers.RMSprop(),\n",
    "              loss=keras.losses.BinaryCrossentropy(from_logits=True),\n",
    "              metrics=['accuracy'])\n",
    "\n",
    "history2 = model2.fit(x_train[10000:], y_train[10000:], \n",
    "                    batch_size=512, \n",
    "                    epochs=20,\n",
    "                    validation_data=(x_train[:10000], y_train[:10000]),\n",
    "                    verbose=0)\n",
    "\n",
    "plot_curve(history2)\n",
    "\n",
    "model2.evaluate(x_test, y_test)"
   ]
  },
  {
   "cell_type": "markdown",
   "metadata": {},
   "source": [
    "* Even better accuracy.\n",
    "* Overfitting starts much later(early stopping can be useful in this case)."
   ]
  },
  {
   "cell_type": "markdown",
   "metadata": {
    "slideshow": {
     "slide_type": "slide"
    }
   },
   "source": [
    "## Exercise 4: Word embeddings\n",
    "\n",
    "* Instead of one-hot-encoding, use a word embedding of length 300\n",
    "* Only add an output layer after the Embedding layer.\n",
    "* Train the embedding as well as you can (takes time!)\n",
    "    * Evaluate as before. Does it perform better?\n",
    "* Import a GloVe embedding pretrained om Wikipedia\n",
    "    * Evaluate as before. Does it perform better?"
   ]
  }
 ],
 "metadata": {
  "anaconda-cloud": {},
  "celltoolbar": "Slideshow",
  "kernelspec": {
   "display_name": "Python 3 (ipykernel)",
   "language": "python",
   "name": "python3"
  },
  "language_info": {
   "codemirror_mode": {
    "name": "ipython",
    "version": 3
   },
   "file_extension": ".py",
   "mimetype": "text/x-python",
   "name": "python",
   "nbconvert_exporter": "python",
   "pygments_lexer": "ipython3",
   "version": "3.8.13"
  }
 },
 "nbformat": 4,
 "nbformat_minor": 4
}
